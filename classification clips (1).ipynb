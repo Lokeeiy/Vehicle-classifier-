{
 "cells": [
  {
   "cell_type": "markdown",
   "id": "e067a30b-f783-43a8-9bd7-8560ff2de132",
   "metadata": {},
   "source": [
    "## Video Classification"
   ]
  },
  {
   "cell_type": "code",
   "execution_count": 3,
   "id": "6e462b02-29fe-40f1-9b56-f51cdaf1d933",
   "metadata": {},
   "outputs": [],
   "source": [
    "import cv2\n",
    "\n",
    "prototxt = \"MobileNetSSD_deploy.prototxt.txt\"\n",
    "model = \"MobileNetSSD_deploy.caffemodel\"\n",
    "net = cv2.dnn.readNetFromCaffe(prototxt, model)\n",
    "\n",
    "CLASSES = [\"background\", \"aeroplane\", \"bicycle\", \"bird\", \"boat\",\n",
    "           \"bottle\", \"bus\", \"car\", \"cat\", \"chair\", \"cow\", \"diningtable\",\n",
    "           \"dog\", \"horse\", \"motorbike\", \"person\", \"pottedplant\", \"sheep\",\n",
    "           \"sofa\", \"train\", \"tvmonitor\"]\n",
    "\n",
    "vehicle_classes = {\"car\", \"bus\", \"motorbike\", \"bicycle\", \"truck\"}\n",
    "\n",
    "cap = cv2.VideoCapture(\"classification clip2.mp4\")\n",
    "\n",
    "while cap.isOpened():\n",
    "    ret, frame = cap.read()\n",
    "    if not ret:\n",
    "        break\n",
    "\n",
    "    (h, w) = frame.shape[:2]\n",
    "\n",
    "    blob = cv2.dnn.blobFromImage(cv2.resize(frame, (300, 300)),\n",
    "                                 0.007843, (300, 300), 127.5)\n",
    "\n",
    "    net.setInput(blob)\n",
    "    detections = net.forward()\n",
    "\n",
    "    for i in range(detections.shape[2]):\n",
    "        confidence = detections[0, 0, i, 2]\n",
    "\n",
    "        if confidence > 0.5:\n",
    "            idx = int(detections[0, 0, i, 1])\n",
    "            label = CLASSES[idx]\n",
    "\n",
    "            if label in vehicle_classes:\n",
    "                box = detections[0, 0, i, 3:7] * [w, h, w, h]\n",
    "                (startX, startY, endX, endY) = box.astype(\"int\")\n",
    "\n",
    "                cv2.rectangle(frame, (startX, startY), (endX, endY),\n",
    "                              (0, 255, 0), 2)\n",
    "                label_text = f\"{label}: {round(confidence * 100, 1)}%\"\n",
    "                cv2.putText(frame, label_text, (startX, startY - 10),\n",
    "                            cv2.FONT_HERSHEY_SIMPLEX, 0.5, (255, 255, 255), 2)\n",
    "\n",
    "    cv2.imshow(\"Vehicle Detection\", frame)\n",
    "    if cv2.waitKey(1) & 0xFF == ord('q'):\n",
    "        break\n",
    "\n",
    "cap.release()\n",
    "cv2.destroyAllWindows()"
   ]
  },
  {
   "cell_type": "code",
   "execution_count": null,
   "id": "83824eca-e560-4d00-ae90-17b1568bda9e",
   "metadata": {},
   "outputs": [],
   "source": []
  }
 ],
 "metadata": {
  "kernelspec": {
   "display_name": "Python 3 (ipykernel)",
   "language": "python",
   "name": "python3"
  },
  "language_info": {
   "codemirror_mode": {
    "name": "ipython",
    "version": 3
   },
   "file_extension": ".py",
   "mimetype": "text/x-python",
   "name": "python",
   "nbconvert_exporter": "python",
   "pygments_lexer": "ipython3",
   "version": "3.11.1"
  }
 },
 "nbformat": 4,
 "nbformat_minor": 5
}
